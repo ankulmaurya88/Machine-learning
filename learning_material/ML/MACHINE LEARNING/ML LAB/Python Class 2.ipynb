{
 "cells": [
  {
   "cell_type": "code",
   "execution_count": 54,
   "metadata": {},
   "outputs": [],
   "source": [
    "dict={'Garima': [28,38] , 'Anamika': 27, 'Amita': 35, 'Sonia':40}"
   ]
  },
  {
   "cell_type": "code",
   "execution_count": 55,
   "metadata": {},
   "outputs": [],
   "source": [
    "#dict={'Manali':40}"
   ]
  },
  {
   "cell_type": "code",
   "execution_count": 56,
   "metadata": {},
   "outputs": [],
   "source": [
    "#dict['Garima']=30"
   ]
  },
  {
   "cell_type": "code",
   "execution_count": 57,
   "metadata": {},
   "outputs": [
    {
     "name": "stdout",
     "output_type": "stream",
     "text": [
      "{'Garima': 80, 'Anamika': 27, 'Amita': 35, 'Sonia': 40}\n"
     ]
    }
   ],
   "source": [
    "print(dic)"
   ]
  },
  {
   "cell_type": "code",
   "execution_count": 58,
   "metadata": {},
   "outputs": [],
   "source": [
    "#dict['Garima']=dict['Garima']+50\n",
    "#print(dict)"
   ]
  },
  {
   "cell_type": "code",
   "execution_count": 59,
   "metadata": {},
   "outputs": [],
   "source": [
    "dict['Garima'].append(4)"
   ]
  },
  {
   "cell_type": "code",
   "execution_count": 61,
   "metadata": {},
   "outputs": [
    {
     "name": "stdout",
     "output_type": "stream",
     "text": [
      "{'Garima': [28, 38, 4], 'Anamika': 27, 'Amita': 35, 'Sonia': 40}\n"
     ]
    }
   ],
   "source": [
    "print(dict)"
   ]
  },
  {
   "cell_type": "code",
   "execution_count": 62,
   "metadata": {},
   "outputs": [],
   "source": [
    "import numpy as np"
   ]
  },
  {
   "cell_type": "code",
   "execution_count": 64,
   "metadata": {},
   "outputs": [],
   "source": [
    "test=np.array([1,2,3,4,5,6,7,8,9])"
   ]
  },
  {
   "cell_type": "code",
   "execution_count": 75,
   "metadata": {},
   "outputs": [
    {
     "name": "stdout",
     "output_type": "stream",
     "text": [
      "[ True  True  True  True False False False False False]\n"
     ]
    }
   ],
   "source": [
    "print(test<5)"
   ]
  },
  {
   "cell_type": "code",
   "execution_count": 76,
   "metadata": {},
   "outputs": [
    {
     "name": "stdout",
     "output_type": "stream",
     "text": [
      "[1 2 3 4]\n"
     ]
    }
   ],
   "source": [
    "print(test[test<5])"
   ]
  },
  {
   "cell_type": "code",
   "execution_count": 79,
   "metadata": {},
   "outputs": [
    {
     "data": {
      "text/html": [
       "<div>\n",
       "<style scoped>\n",
       "    .dataframe tbody tr th:only-of-type {\n",
       "        vertical-align: middle;\n",
       "    }\n",
       "\n",
       "    .dataframe tbody tr th {\n",
       "        vertical-align: top;\n",
       "    }\n",
       "\n",
       "    .dataframe thead th {\n",
       "        text-align: right;\n",
       "    }\n",
       "</style>\n",
       "<table border=\"1\" class=\"dataframe\">\n",
       "  <thead>\n",
       "    <tr style=\"text-align: right;\">\n",
       "      <th></th>\n",
       "      <th>Month</th>\n",
       "      <th>Day_of_month</th>\n",
       "      <th>Day_of_week</th>\n",
       "      <th>ozone_reading</th>\n",
       "      <th>pressure_height</th>\n",
       "      <th>Wind_speed</th>\n",
       "      <th>Humidity</th>\n",
       "      <th>Temperature_Sandburg</th>\n",
       "      <th>Temperature_ElMonte</th>\n",
       "      <th>Inversion_base_height</th>\n",
       "      <th>Pressure_gradient</th>\n",
       "      <th>Inversion_temperature</th>\n",
       "      <th>Visibility</th>\n",
       "    </tr>\n",
       "  </thead>\n",
       "  <tbody>\n",
       "    <tr>\n",
       "      <th>0</th>\n",
       "      <td>1</td>\n",
       "      <td>5</td>\n",
       "      <td>1</td>\n",
       "      <td>5.34</td>\n",
       "      <td>5760</td>\n",
       "      <td>3</td>\n",
       "      <td>51</td>\n",
       "      <td>54</td>\n",
       "      <td>45.32</td>\n",
       "      <td>1450</td>\n",
       "      <td>25</td>\n",
       "      <td>57.02</td>\n",
       "      <td>60</td>\n",
       "    </tr>\n",
       "    <tr>\n",
       "      <th>1</th>\n",
       "      <td>1</td>\n",
       "      <td>6</td>\n",
       "      <td>2</td>\n",
       "      <td>5.77</td>\n",
       "      <td>5720</td>\n",
       "      <td>4</td>\n",
       "      <td>69</td>\n",
       "      <td>35</td>\n",
       "      <td>49.64</td>\n",
       "      <td>1568</td>\n",
       "      <td>15</td>\n",
       "      <td>53.78</td>\n",
       "      <td>60</td>\n",
       "    </tr>\n",
       "    <tr>\n",
       "      <th>2</th>\n",
       "      <td>1</td>\n",
       "      <td>7</td>\n",
       "      <td>3</td>\n",
       "      <td>3.69</td>\n",
       "      <td>5790</td>\n",
       "      <td>6</td>\n",
       "      <td>19</td>\n",
       "      <td>45</td>\n",
       "      <td>46.40</td>\n",
       "      <td>2631</td>\n",
       "      <td>-33</td>\n",
       "      <td>54.14</td>\n",
       "      <td>100</td>\n",
       "    </tr>\n",
       "    <tr>\n",
       "      <th>3</th>\n",
       "      <td>1</td>\n",
       "      <td>8</td>\n",
       "      <td>4</td>\n",
       "      <td>3.89</td>\n",
       "      <td>5790</td>\n",
       "      <td>3</td>\n",
       "      <td>25</td>\n",
       "      <td>55</td>\n",
       "      <td>52.70</td>\n",
       "      <td>554</td>\n",
       "      <td>-28</td>\n",
       "      <td>64.76</td>\n",
       "      <td>250</td>\n",
       "    </tr>\n",
       "    <tr>\n",
       "      <th>4</th>\n",
       "      <td>1</td>\n",
       "      <td>9</td>\n",
       "      <td>5</td>\n",
       "      <td>5.76</td>\n",
       "      <td>5700</td>\n",
       "      <td>3</td>\n",
       "      <td>73</td>\n",
       "      <td>41</td>\n",
       "      <td>48.02</td>\n",
       "      <td>2083</td>\n",
       "      <td>23</td>\n",
       "      <td>52.52</td>\n",
       "      <td>120</td>\n",
       "    </tr>\n",
       "  </tbody>\n",
       "</table>\n",
       "</div>"
      ],
      "text/plain": [
       "   Month  Day_of_month  Day_of_week  ozone_reading  pressure_height  \\\n",
       "0      1             5            1           5.34             5760   \n",
       "1      1             6            2           5.77             5720   \n",
       "2      1             7            3           3.69             5790   \n",
       "3      1             8            4           3.89             5790   \n",
       "4      1             9            5           5.76             5700   \n",
       "\n",
       "   Wind_speed  Humidity  Temperature_Sandburg  Temperature_ElMonte  \\\n",
       "0           3        51                    54                45.32   \n",
       "1           4        69                    35                49.64   \n",
       "2           6        19                    45                46.40   \n",
       "3           3        25                    55                52.70   \n",
       "4           3        73                    41                48.02   \n",
       "\n",
       "   Inversion_base_height  Pressure_gradient  Inversion_temperature  Visibility  \n",
       "0                   1450                 25                  57.02          60  \n",
       "1                   1568                 15                  53.78          60  \n",
       "2                   2631                -33                  54.14         100  \n",
       "3                    554                -28                  64.76         250  \n",
       "4                   2083                 23                  52.52         120  "
      ]
     },
     "execution_count": 79,
     "metadata": {},
     "output_type": "execute_result"
    }
   ],
   "source": [
    "## creating dataframe by loading a file  and then writting it back in a file           \n",
    "import pandas as pd\n",
    "df=pd.read_csv('Downloads/ozone.csv')\n",
    "##df=pd.read_table('Ozone_data.csv',delimiter=',')\n",
    "##df=pd.read_excel('attendence.xlsx')\n",
    "df.head()"
   ]
  },
  {
   "cell_type": "code",
   "execution_count": null,
   "metadata": {},
   "outputs": [],
   "source": []
  }
 ],
 "metadata": {
  "kernelspec": {
   "display_name": "Python 3",
   "language": "python",
   "name": "python3"
  },
  "language_info": {
   "codemirror_mode": {
    "name": "ipython",
    "version": 3
   },
   "file_extension": ".py",
   "mimetype": "text/x-python",
   "name": "python",
   "nbconvert_exporter": "python",
   "pygments_lexer": "ipython3",
   "version": "3.8.5"
  }
 },
 "nbformat": 4,
 "nbformat_minor": 4
}
